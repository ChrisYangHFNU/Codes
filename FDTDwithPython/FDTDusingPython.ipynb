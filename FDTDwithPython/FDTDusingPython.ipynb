{
 "cells": [
  {
   "cell_type": "markdown",
   "metadata": {},
   "source": [
    "1D FDTD\n",
    "Simulation in free space"
   ]
  },
  {
   "cell_type": "code",
   "execution_count": null,
   "metadata": {},
   "outputs": [],
   "source": [
    "import numpy as np\n",
    "from math import exp\n",
    "from matplotlib import pyplot as plt\n",
    "\n",
    "ke = 200\n",
    "ex = np.zeros(ke)\n",
    "hy = np.zeros(ke)\n",
    "\n",
    "# Pulse parameters\n",
    "kc = int(ke/2)\n",
    "t0 = 40\n",
    "spread = 12\n",
    "nsteps = 100\n",
    "\n",
    "# Main FDTD Loop\n",
    "for time_step in range(1,nsteps+1):\n",
    "    # Calculate the Ex field\n",
    "    for k in range(1,ke):\n",
    "        ex[k] = ex[k]+0.5*(hy[k-1]-hy[k])\n",
    "\n",
    "    # Put a Gaussian pulse in the middle\n",
    "    pulse = exp(-0.5*((t0-time_step)/spread)**2)\n",
    "    ex[kc] = pulse\n",
    "\n",
    "    # Calculate the Hy field\n",
    "    for k in range(ke-1):\n",
    "        hy[k] = hy[k]+0.5*(ex[k]-ex[k+1])\n",
    "\n",
    "# Plot the outputs as shown in Fig.1.2\n",
    "plt.rcParams['font.size'] = 12\n",
    "plt.figure(figsize=(8,3.5))\n",
    "\n",
    "plt.subplot(211)\n",
    "plt.plot(ex,color='k',linewidth=1)\n",
    "plt.ylabel('E$_x$',fontsize='14')\n",
    "plt.xticks(np.arange(0,201,step=20))\n",
    "plt.xlim(0,200)\n",
    "plt.yticks(np.arange(-1,1.2,step=1))\n",
    "plt.ylim(-1.2,1.2)\n",
    "plt.text(100,0.5,'T={}'.format(time_step),horizontalalignment='center')\n",
    "\n",
    "plt.subplot(212)\n",
    "plt.plot(hy,color='k',linewidth=1)\n",
    "plt.ylabel('H$_y$',fontsize='14')\n",
    "plt.xlabel('FDTD cells')\n",
    "plt.xticks(np.arange(0,201,step=20))\n",
    "plt.xlim(0,200)\n",
    "plt.yticks(np.arange(-1,1.2,step=1))\n",
    "plt.ylim(-1.2,1.2)\n",
    "\n",
    "plt.subplots_adjust(bottom=0.2,hspace=0.45)\n",
    "plt.show()"
   ]
  }
 ],
 "metadata": {
  "interpreter": {
   "hash": "172c1c94b29be26035e2192a2b2f2671518df81c49dc8c295f0a2e5ca314fa91"
  },
  "kernelspec": {
   "display_name": "Python 3.8.3 64-bit",
   "language": "python",
   "name": "python3"
  },
  "language_info": {
   "name": "python",
   "version": "3.8.3"
  },
  "orig_nbformat": 4
 },
 "nbformat": 4,
 "nbformat_minor": 2
}
